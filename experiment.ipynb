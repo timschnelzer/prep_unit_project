{
 "cells": [
  {
   "cell_type": "markdown",
   "id": "4736fe82",
   "metadata": {},
   "source": [
    "<img src=\"Logo.png\" width=\"100\" align=\"left\"/> \n",
    "\n",
    "# <center> Preparatory Unit project:</center>\n",
    "\n",
    "\n",
    "\n",
    "Congratulations on finishing the lessons content for this preparatory unit!!\n",
    "\n",
    "At this stage it's important to test your theoritical concepts from a practical side and that's exactely the goal of this project.\n"
   ]
  },
  {
   "cell_type": "markdown",
   "id": "036e1737",
   "metadata": {},
   "source": [
    "## Some guidelines: \n",
    "1. To run a cell you can use the shortcut use : Shift + Enter\n",
    "\n",
    "2. Only sections mentioned as To-Do are the places where you should put in your own code other than that we do not recommend that you change the provided code.\n",
    "\n",
    "3. You will be graded for the visibility of your code so make sure you respect the correct indentation and your code contains suitable variables names.\n",
    "\n",
    "4. This notebook is designed in a sequential way so if you solve your project on different days make sure to run the previous cells before you can run the one you want.\n",
    "\n",
    "5. Teacher assistants in th slack space remain available to answer any questions you might have.\n",
    "\n",
    ">Best of luck ! "
   ]
  },
  {
   "cell_type": "markdown",
   "id": "9acedfff",
   "metadata": {},
   "source": [
    "## Project Sections:\n",
    "In this project you will have a chance to practice most of the important aspects we saw throughout The Preparatory Unit.\n",
    "This project is divided into 5 sections: \n",
    "\n",
    "\n",
    "1. [Setting the environement](#set_env)\n",
    "\n",
    "2. [Importing necessary tools](#importing)\n",
    "\n",
    "3. [SQLite section](#sql)\n",
    "\n",
    "4. [Data types section](#datatypes)\n",
    "\n",
    "5. [Linear Algebra section](#algebra)\n"
   ]
  },
  {
   "cell_type": "markdown",
   "id": "043360d8",
   "metadata": {},
   "source": [
    "### 1. Setting the environement:  <a id='set_env'></a>"
   ]
  },
  {
   "cell_type": "code",
   "execution_count": 1,
   "id": "65de5c9f",
   "metadata": {},
   "outputs": [
    {
     "name": "stdout",
     "output_type": "stream",
     "text": [
      "Requirement already satisfied: virtualenv in /Users/timschnelzer/Library/Python/3.11/lib/python/site-packages (20.32.0)\n",
      "Requirement already satisfied: distlib<1,>=0.3.7 in /Users/timschnelzer/Library/Python/3.11/lib/python/site-packages (from virtualenv) (0.4.0)\n",
      "Requirement already satisfied: filelock<4,>=3.12.2 in /Library/Frameworks/Python.framework/Versions/3.11/lib/python3.11/site-packages (from virtualenv) (3.18.0)\n",
      "Requirement already satisfied: platformdirs<5,>=3.9.1 in /Users/timschnelzer/Library/Python/3.11/lib/python/site-packages (from virtualenv) (4.3.8)\n"
     ]
    }
   ],
   "source": [
    "# Make sure you have virtualenv installed \n",
    "!pip install --user virtualenv"
   ]
  },
  {
   "cell_type": "code",
   "execution_count": 2,
   "id": "e7408819",
   "metadata": {},
   "outputs": [
    {
     "name": "stdout",
     "output_type": "stream",
     "text": [
      "zsh:source:1: no such file or directory: myenv/bin/activate\n"
     ]
    }
   ],
   "source": [
    "# Activate the environement \n",
    "!source myenv/bin/activate"
   ]
  },
  {
   "cell_type": "code",
   "execution_count": 3,
   "id": "592e44f6",
   "metadata": {
    "scrolled": false
   },
   "outputs": [
    {
     "name": "stdout",
     "output_type": "stream",
     "text": [
      "Requirement already satisfied: ipykernel in /Users/timschnelzer/Library/Python/3.11/lib/python/site-packages (6.20.1)\n",
      "Requirement already satisfied: appnope in /Users/timschnelzer/Library/Python/3.11/lib/python/site-packages (from ipykernel) (0.1.3)\n",
      "Requirement already satisfied: comm>=0.1.1 in /Users/timschnelzer/Library/Python/3.11/lib/python/site-packages (from ipykernel) (0.1.2)\n",
      "Requirement already satisfied: debugpy>=1.0 in /Users/timschnelzer/Library/Python/3.11/lib/python/site-packages (from ipykernel) (1.6.5)\n",
      "Requirement already satisfied: ipython>=7.23.1 in /Users/timschnelzer/Library/Python/3.11/lib/python/site-packages (from ipykernel) (8.8.0)\n",
      "Requirement already satisfied: jupyter-client>=6.1.12 in /Users/timschnelzer/Library/Python/3.11/lib/python/site-packages (from ipykernel) (7.4.8)\n",
      "Requirement already satisfied: matplotlib-inline>=0.1 in /Users/timschnelzer/Library/Python/3.11/lib/python/site-packages (from ipykernel) (0.1.6)\n",
      "Requirement already satisfied: nest-asyncio in /Users/timschnelzer/Library/Python/3.11/lib/python/site-packages (from ipykernel) (1.5.6)\n",
      "Requirement already satisfied: packaging in /Users/timschnelzer/Library/Python/3.11/lib/python/site-packages (from ipykernel) (23.0)\n",
      "Requirement already satisfied: psutil in /Users/timschnelzer/Library/Python/3.11/lib/python/site-packages (from ipykernel) (5.9.4)\n",
      "Requirement already satisfied: pyzmq>=17 in /Users/timschnelzer/Library/Python/3.11/lib/python/site-packages (from ipykernel) (24.0.1)\n",
      "Requirement already satisfied: tornado>=6.1 in /Users/timschnelzer/Library/Python/3.11/lib/python/site-packages (from ipykernel) (6.2)\n",
      "Requirement already satisfied: traitlets>=5.4.0 in /Users/timschnelzer/Library/Python/3.11/lib/python/site-packages (from ipykernel) (5.8.1)\n",
      "Requirement already satisfied: backcall in /Users/timschnelzer/Library/Python/3.11/lib/python/site-packages (from ipython>=7.23.1->ipykernel) (0.2.0)\n",
      "Requirement already satisfied: decorator in /Users/timschnelzer/Library/Python/3.11/lib/python/site-packages (from ipython>=7.23.1->ipykernel) (5.1.1)\n",
      "Requirement already satisfied: jedi>=0.16 in /Users/timschnelzer/Library/Python/3.11/lib/python/site-packages (from ipython>=7.23.1->ipykernel) (0.18.2)\n",
      "Requirement already satisfied: pickleshare in /Users/timschnelzer/Library/Python/3.11/lib/python/site-packages (from ipython>=7.23.1->ipykernel) (0.7.5)\n",
      "Requirement already satisfied: prompt-toolkit<3.1.0,>=3.0.11 in /Users/timschnelzer/Library/Python/3.11/lib/python/site-packages (from ipython>=7.23.1->ipykernel) (3.0.36)\n",
      "Requirement already satisfied: pygments>=2.4.0 in /Users/timschnelzer/Library/Python/3.11/lib/python/site-packages (from ipython>=7.23.1->ipykernel) (2.14.0)\n",
      "Requirement already satisfied: stack-data in /Users/timschnelzer/Library/Python/3.11/lib/python/site-packages (from ipython>=7.23.1->ipykernel) (0.6.2)\n",
      "Requirement already satisfied: pexpect>4.3 in /Users/timschnelzer/Library/Python/3.11/lib/python/site-packages (from ipython>=7.23.1->ipykernel) (4.8.0)\n",
      "Requirement already satisfied: wcwidth in /Users/timschnelzer/Library/Python/3.11/lib/python/site-packages (from prompt-toolkit<3.1.0,>=3.0.11->ipython>=7.23.1->ipykernel) (0.2.5)\n",
      "Requirement already satisfied: parso<0.9.0,>=0.8.0 in /Users/timschnelzer/Library/Python/3.11/lib/python/site-packages (from jedi>=0.16->ipython>=7.23.1->ipykernel) (0.8.3)\n",
      "Requirement already satisfied: entrypoints in /Users/timschnelzer/Library/Python/3.11/lib/python/site-packages (from jupyter-client>=6.1.12->ipykernel) (0.4)\n",
      "Requirement already satisfied: jupyter-core>=4.9.2 in /Users/timschnelzer/Library/Python/3.11/lib/python/site-packages (from jupyter-client>=6.1.12->ipykernel) (5.1.3)\n",
      "Requirement already satisfied: python-dateutil>=2.8.2 in /Users/timschnelzer/Library/Python/3.11/lib/python/site-packages (from jupyter-client>=6.1.12->ipykernel) (2.8.2)\n",
      "Requirement already satisfied: platformdirs>=2.5 in /Users/timschnelzer/Library/Python/3.11/lib/python/site-packages (from jupyter-core>=4.9.2->jupyter-client>=6.1.12->ipykernel) (4.3.8)\n",
      "Requirement already satisfied: ptyprocess>=0.5 in /Users/timschnelzer/Library/Python/3.11/lib/python/site-packages (from pexpect>4.3->ipython>=7.23.1->ipykernel) (0.7.0)\n",
      "Requirement already satisfied: six>=1.5 in /Users/timschnelzer/Library/Python/3.11/lib/python/site-packages (from python-dateutil>=2.8.2->jupyter-client>=6.1.12->ipykernel) (1.16.0)\n",
      "Requirement already satisfied: executing>=1.2.0 in /Users/timschnelzer/Library/Python/3.11/lib/python/site-packages (from stack-data->ipython>=7.23.1->ipykernel) (1.2.0)\n",
      "Requirement already satisfied: asttokens>=2.1.0 in /Users/timschnelzer/Library/Python/3.11/lib/python/site-packages (from stack-data->ipython>=7.23.1->ipykernel) (2.2.1)\n",
      "Requirement already satisfied: pure-eval in /Users/timschnelzer/Library/Python/3.11/lib/python/site-packages (from stack-data->ipython>=7.23.1->ipykernel) (0.2.2)\n",
      "zsh:1: command not found: python\n"
     ]
    }
   ],
   "source": [
    "# Add this virtual environement to Jupyter notebook \n",
    "!pip install --user ipykernel\n",
    "!python -m ipykernel install --user --name=myenv"
   ]
  },
  {
   "cell_type": "code",
   "execution_count": 4,
   "id": "ca6ea3f5",
   "metadata": {},
   "outputs": [
    {
     "name": "stdout",
     "output_type": "stream",
     "text": [
      "Requirement already satisfied: scipy in /Library/Frameworks/Python.framework/Versions/3.11/lib/python3.11/site-packages (1.16.0)\n",
      "Requirement already satisfied: numpy<2.6,>=1.25.2 in /Library/Frameworks/Python.framework/Versions/3.11/lib/python3.11/site-packages (from scipy) (2.3.1)\n",
      "Requirement already satisfied: numpy in /Library/Frameworks/Python.framework/Versions/3.11/lib/python3.11/site-packages (2.3.1)\n"
     ]
    }
   ],
   "source": [
    "# Install the necessary dependencies \n",
    "!pip install scipy\n",
    "!pip install numpy  "
   ]
  },
  {
   "cell_type": "markdown",
   "id": "7e530b79",
   "metadata": {},
   "source": [
    "> Please check if you have sqlite installed on your device. For more informations head to the sql lesson "
   ]
  },
  {
   "cell_type": "markdown",
   "id": "13d9fe9f",
   "metadata": {},
   "source": [
    "### 2. Importing necessary tools:<a id='importing'></a>"
   ]
  },
  {
   "cell_type": "code",
   "execution_count": 5,
   "id": "64f4cbb5",
   "metadata": {},
   "outputs": [
    {
     "name": "stdout",
     "output_type": "stream",
     "text": [
      "Requirement already satisfied: matplotlib in /Library/Frameworks/Python.framework/Versions/3.11/lib/python3.11/site-packages (3.10.3)\n",
      "Requirement already satisfied: contourpy>=1.0.1 in /Library/Frameworks/Python.framework/Versions/3.11/lib/python3.11/site-packages (from matplotlib) (1.3.2)\n",
      "Requirement already satisfied: cycler>=0.10 in /Library/Frameworks/Python.framework/Versions/3.11/lib/python3.11/site-packages (from matplotlib) (0.12.1)\n",
      "Requirement already satisfied: fonttools>=4.22.0 in /Library/Frameworks/Python.framework/Versions/3.11/lib/python3.11/site-packages (from matplotlib) (4.59.0)\n",
      "Requirement already satisfied: kiwisolver>=1.3.1 in /Library/Frameworks/Python.framework/Versions/3.11/lib/python3.11/site-packages (from matplotlib) (1.4.8)\n",
      "Requirement already satisfied: numpy>=1.23 in /Library/Frameworks/Python.framework/Versions/3.11/lib/python3.11/site-packages (from matplotlib) (2.3.1)\n",
      "Requirement already satisfied: packaging>=20.0 in /Users/timschnelzer/Library/Python/3.11/lib/python/site-packages (from matplotlib) (23.0)\n",
      "Requirement already satisfied: pillow>=8 in /Library/Frameworks/Python.framework/Versions/3.11/lib/python3.11/site-packages (from matplotlib) (11.3.0)\n",
      "Requirement already satisfied: pyparsing>=2.3.1 in /Library/Frameworks/Python.framework/Versions/3.11/lib/python3.11/site-packages (from matplotlib) (3.2.3)\n",
      "Requirement already satisfied: python-dateutil>=2.7 in /Users/timschnelzer/Library/Python/3.11/lib/python/site-packages (from matplotlib) (2.8.2)\n",
      "Requirement already satisfied: six>=1.5 in /Users/timschnelzer/Library/Python/3.11/lib/python/site-packages (from python-dateutil>=2.7->matplotlib) (1.16.0)\n"
     ]
    }
   ],
   "source": [
    "!pip install matplotlib"
   ]
  },
  {
   "cell_type": "code",
   "execution_count": 6,
   "id": "bb9f050d",
   "metadata": {},
   "outputs": [],
   "source": [
    "from data import database_manager as dm\n",
    "import utils\n",
    "from matplotlib import pyplot\n",
    "from linear_algebra import curve_fitting as cf"
   ]
  },
  {
   "cell_type": "markdown",
   "id": "4594bdfd",
   "metadata": {},
   "source": [
    "### 3. SQLite section : <a id='sql'></a>"
   ]
  },
  {
   "cell_type": "code",
   "execution_count": 7,
   "id": "9451098d",
   "metadata": {},
   "outputs": [
    {
     "name": "stdout",
     "output_type": "stream",
     "text": [
      "Verbindung zu data/longley.db erfolgreich!\n"
     ]
    }
   ],
   "source": [
    "# create a connection to the database\n",
    "connection = dm.create_connection(\"data/longley.db\")\n",
    "\n",
    "# To-Do : retrieve rows of the table \n",
    "rows = dm.select_all(connection)"
   ]
  },
  {
   "cell_type": "markdown",
   "id": "60c8d87a",
   "metadata": {},
   "source": [
    "> Since at this stage we already retrieved our data it's more memory efficient to close the connection to our database."
   ]
  },
  {
   "cell_type": "code",
   "execution_count": 8,
   "id": "572e57ef",
   "metadata": {},
   "outputs": [],
   "source": [
    "#To-Do close connection using the close_connection function from the data_manager file (dm)\n",
    "dm.close_connection(connection)"
   ]
  },
  {
   "cell_type": "markdown",
   "id": "658c5e17",
   "metadata": {},
   "source": [
    "### 4. Data types section : <a id='datatypes'></a>\n"
   ]
  },
  {
   "cell_type": "markdown",
   "id": "17792967",
   "metadata": {},
   "source": [
    "Let's check the datatypes of the retrieved rows"
   ]
  },
  {
   "cell_type": "code",
   "execution_count": 9,
   "id": "41996d8b",
   "metadata": {
    "scrolled": true
   },
   "outputs": [
    {
     "data": {
      "text/plain": [
       "[('83', '234.289', '235.6', '159', '107.608', '1947', '60.323'),\n",
       " ('88.5', '259.426', '232.5', '145.6', '108.632', '1948', '61.122'),\n",
       " ('88.2', '258.054', '368.2', '161.6', '109.773', '1949', '60.171'),\n",
       " ('89.5', '284.599', '335.1', '165', '110.929', '1950', '61.187'),\n",
       " ('96.2', '328.975', '209.9', '309.9', '112.075', '1951', '63.221'),\n",
       " ('98.1', '346.999', '193.2', '359.4', '113.27', '1952', '63.639'),\n",
       " ('99', '365.385', '187', '354.7', '115.094', '1953', '64.989'),\n",
       " ('100', '363.112', '357.8', '335', '116.219', '1954', '63.761'),\n",
       " ('101.2', '397.469', '290.4', '304.8', '117.388', '1955', '66.019'),\n",
       " ('104.6', '419.18', '282.2', '285.7', '118.734', '1956', '67.857'),\n",
       " ('108.4', '442.769', '293.6', '279.8', '120.445', '1957', '68.169'),\n",
       " ('110.8', '444.546', '468.1', '263.7', '121.95', '1958', '66.513'),\n",
       " ('112.6', '482.704', '381.3', '255.2', '123.366', '1959', '68.655'),\n",
       " ('114.2', '502.601', '393.1', '251.4', '125.368', '1960', '69.564'),\n",
       " ('115.7', '518.173', '480.6', '257.2', '127.852', '1961', '69.331'),\n",
       " ('116.9', '554.894', '400.7', '282.7', '130.081', '1962', '70.551')]"
      ]
     },
     "execution_count": 9,
     "metadata": {},
     "output_type": "execute_result"
    }
   ],
   "source": [
    "rows"
   ]
  },
  {
   "cell_type": "markdown",
   "id": "6274d299",
   "metadata": {},
   "source": [
    "> This is a list containing multiple tuples, each tuple is a row in the Table with each element within this tuple being a string.\n",
    "We will be executing mathematical operations on these values and hence we need them in numerical format. Each value contains decimal fractions which means the suitable type to convert to is either double or float. In this case we need to convert these values to a float fomat. Head up to the \"utils.py\" file and set the function convert_to_floats to be able to do so."
   ]
  },
  {
   "cell_type": "code",
   "execution_count": 10,
   "id": "f14a5830",
   "metadata": {},
   "outputs": [],
   "source": [
    "# To-Do convert to an ndarray of floats by calling the function convert_to_floats from the utils file \n",
    "# make sure to set some requirements in that function before you call it here \n",
    "data = utils.convert_to_floats(rows)"
   ]
  },
  {
   "cell_type": "code",
   "execution_count": 11,
   "id": "36bdd100",
   "metadata": {},
   "outputs": [
    {
     "data": {
      "text/plain": [
       "(16, 7)"
      ]
     },
     "execution_count": 11,
     "metadata": {},
     "output_type": "execute_result"
    }
   ],
   "source": [
    "# let's check the shape \n",
    "data.shape"
   ]
  },
  {
   "cell_type": "code",
   "execution_count": 12,
   "id": "cfda0496",
   "metadata": {
    "scrolled": true
   },
   "outputs": [
    {
     "data": {
      "text/plain": [
       "array([[  83.   ,  234.289,  235.6  ,  159.   ,  107.608, 1947.   ,\n",
       "          60.323],\n",
       "       [  88.5  ,  259.426,  232.5  ,  145.6  ,  108.632, 1948.   ,\n",
       "          61.122],\n",
       "       [  88.2  ,  258.054,  368.2  ,  161.6  ,  109.773, 1949.   ,\n",
       "          60.171],\n",
       "       [  89.5  ,  284.599,  335.1  ,  165.   ,  110.929, 1950.   ,\n",
       "          61.187],\n",
       "       [  96.2  ,  328.975,  209.9  ,  309.9  ,  112.075, 1951.   ,\n",
       "          63.221],\n",
       "       [  98.1  ,  346.999,  193.2  ,  359.4  ,  113.27 , 1952.   ,\n",
       "          63.639],\n",
       "       [  99.   ,  365.385,  187.   ,  354.7  ,  115.094, 1953.   ,\n",
       "          64.989],\n",
       "       [ 100.   ,  363.112,  357.8  ,  335.   ,  116.219, 1954.   ,\n",
       "          63.761],\n",
       "       [ 101.2  ,  397.469,  290.4  ,  304.8  ,  117.388, 1955.   ,\n",
       "          66.019],\n",
       "       [ 104.6  ,  419.18 ,  282.2  ,  285.7  ,  118.734, 1956.   ,\n",
       "          67.857],\n",
       "       [ 108.4  ,  442.769,  293.6  ,  279.8  ,  120.445, 1957.   ,\n",
       "          68.169],\n",
       "       [ 110.8  ,  444.546,  468.1  ,  263.7  ,  121.95 , 1958.   ,\n",
       "          66.513],\n",
       "       [ 112.6  ,  482.704,  381.3  ,  255.2  ,  123.366, 1959.   ,\n",
       "          68.655],\n",
       "       [ 114.2  ,  502.601,  393.1  ,  251.4  ,  125.368, 1960.   ,\n",
       "          69.564],\n",
       "       [ 115.7  ,  518.173,  480.6  ,  257.2  ,  127.852, 1961.   ,\n",
       "          69.331],\n",
       "       [ 116.9  ,  554.894,  400.7  ,  282.7  ,  130.081, 1962.   ,\n",
       "          70.551]])"
      ]
     },
     "execution_count": 12,
     "metadata": {},
     "output_type": "execute_result"
    }
   ],
   "source": [
    "# Let's see the format \n",
    "data"
   ]
  },
  {
   "cell_type": "markdown",
   "id": "36938250",
   "metadata": {
    "scrolled": true
   },
   "source": [
    "### 5. Linear Algebra section: <a id='algebra'></a> "
   ]
  },
  {
   "cell_type": "code",
   "execution_count": 13,
   "id": "0cd9d958",
   "metadata": {},
   "outputs": [],
   "source": [
    "# Let's check if the two variables GNP.deflator and year  are correlated \n",
    "x, y =  data[:,5],data[:, 0]"
   ]
  },
  {
   "cell_type": "code",
   "execution_count": 14,
   "id": "84397a18",
   "metadata": {
    "scrolled": true
   },
   "outputs": [
    {
     "data": {
      "image/png": "[encoded data removed]",
      "text/plain": [
       "<Figure size 640x480 with 1 Axes>"
      ]
     },
     "metadata": {},
     "output_type": "display_data"
    }
   ],
   "source": [
    "pyplot.scatter(x, y)\n",
    "pyplot.xlabel(\"Year\")\n",
    "pyplot.ylabel(\"GNP.deflactor\")  \n",
    "pyplot.show()"
   ]
  },
  {
   "cell_type": "markdown",
   "id": "6e615ebb",
   "metadata": {},
   "source": [
    "> You can clearly see that the two variables: GNP.deflator (y axis) and year (x axis). In other words the GNP.deflactor is increasing throughout the years.\n",
    "Under this trend it makes sense that we can fit a line to these data points, a line that can describe this trend. And this is our task for this section. "
   ]
  },
  {
   "cell_type": "markdown",
   "id": "f1b68b12",
   "metadata": {},
   "source": [
    "#### Explanation:\n",
    "Curve fitting aims to find the perfect curve equation for a number of correlated variables. In our example we aim to find the equation for the line that can perfectly fit this point . Such a line should be at minimum distance from all points in average. \n",
    "\n",
    "Because we are dealing with two variables only, the line's equation should be of the form : y = a*x + b . Which is a typical linear equation.\n",
    "\n",
    "To acheieve this you will have to : \n",
    "\n",
    "1. Head to the file linear_algebra/curve_fiiting.py file.\n",
    "\n",
    "2. Set the objective  function's code (function set_objective), objective function is the function that returns the typical shape of our wanted linear equation ( a*x+b), Please delete the \"pass\" statement and write your code.\n",
    "\n",
    "3. Here in this notebook in the cell below, call the function get_results and pass to it  x and y and get back the optimal values of \"a\" and \"b\".\n",
    "\n"
   ]
  },
  {
   "cell_type": "code",
   "execution_count": 15,
   "id": "a67d6c92",
   "metadata": {},
   "outputs": [
    {
     "name": "stdout",
     "output_type": "stream",
     "text": [
      "y = 2.24662 * x + -4289.33294\n"
     ]
    }
   ],
   "source": [
    "# To-Do get the values of a and b using the get_result function \n",
    "from linear_algebra.curve_fitting import get_result\n",
    "\n",
    "a, b = get_result(x, y)"
   ]
  },
  {
   "cell_type": "code",
   "execution_count": 16,
   "id": "a0f63be6",
   "metadata": {},
   "outputs": [
    {
     "data": {
      "image/png": "[encoded data removed]",
      "text/plain": [
       "<Figure size 640x480 with 1 Axes>"
      ]
     },
     "metadata": {},
     "output_type": "display_data"
    }
   ],
   "source": [
    "# plotting the result \n",
    "from numpy import arange\n",
    "\n",
    "pyplot.scatter(x, y)\n",
    "# define a sequence of inputs between the smallest and largest known inputs\n",
    "x_line = arange(min(x), max(x), 1)\n",
    "# calculate the output for the range\n",
    "y_line = cf.set_objective(x_line, a, b)\n",
    "# create a line plot for the mapping function\n",
    "pyplot.plot(x_line, y_line, '--', color='red')\n",
    "pyplot.show()"
   ]
  },
  {
   "cell_type": "markdown",
   "id": "21d51b94",
   "metadata": {},
   "source": [
    "> yohooo ! It's indeed working!!! "
   ]
  },
  {
   "cell_type": "markdown",
   "id": "af32289c",
   "metadata": {},
   "source": [
    "# Final thoughts : \n",
    "This curve fitting process can have many use cases within the machine learning workflow. \n",
    "\n",
    "A curve fitting can be used as a way to fill in missing values. Datasets aren't always clean. In fact in 90% of the cases we need to do some pre-processing and cleaning for the data before using it in any analysis. In many cases, this cleaning can include filling the missing values, in other words you have some data points with some missing values for some  features, if we know that we have a \"model\" a curve that is supposed to model the trend(or correlation between two of our existing features we can use it to infer these missing values. So as a result Curve fitting can be used in the data cleaning step of the workflow.\n",
    "\n",
    "Another use case, is when the curve fitting is our end goal, Thus we are cleaning and modeling because the end objective is to have such an equation, in this case the curve fitting is the heart of the Machine learning project."
   ]
  }
 ],
 "metadata": {
  "kernelspec": {
   "display_name": "Python 3",
   "language": "python",
   "name": "python3"
  },
  "language_info": {
   "codemirror_mode": {
    "name": "ipython",
    "version": 3
   },
   "file_extension": ".py",
   "mimetype": "text/x-python",
   "name": "python",
   "nbconvert_exporter": "python",
   "pygments_lexer": "ipython3",
   "version": "3.11.1"
  }
 },
 "nbformat": 4,
 "nbformat_minor": 5
}
